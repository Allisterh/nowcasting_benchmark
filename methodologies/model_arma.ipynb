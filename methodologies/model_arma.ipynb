{
 "cells": [
  {
   "cell_type": "code",
   "execution_count": 1,
   "id": "204365b8-b010-47b6-ba75-d69b753856f7",
   "metadata": {},
   "outputs": [],
   "source": [
    "# library imports\n",
    "import numpy as np\n",
    "import pandas as pd\n",
    "import pmdarima as pm\n",
    "\n",
    "# just for jupyter notebooks plot size\n",
    "import matplotlib.pyplot as plt\n",
    "plt.rcParams['figure.figsize'] = [15, 10]"
   ]
  },
  {
   "cell_type": "markdown",
   "id": "fe31b20a-ad26-464a-835d-be9a8635beaa",
   "metadata": {},
   "source": [
    "# Data set up"
   ]
  },
  {
   "cell_type": "code",
   "execution_count": 2,
   "id": "8a2da67d-e185-4126-a828-c5e5fd3e91db",
   "metadata": {},
   "outputs": [],
   "source": [
    "# data read\n",
    "data = pd.read_csv(\"../data/data_tf.csv\", parse_dates=[\"date\"])\n",
    "metadata = pd.read_csv(\"../data/meta_data.csv\")\n",
    "\n",
    "# target variable = GDP\n",
    "target_variable = \"gdpc1\"\n",
    "target_lag = 1 # GDP published after completion of the next month\n",
    "\n",
    "# which artificial lags to test the model on, equivalent to number of months ahead of and behind the target date (e.g. 2020-06-01 for Q2 2020)\n",
    "lags = list(range(-2, 3))\n",
    "\n",
    "# train and test dates\n",
    "train_start_date = \"1947-01-01\"\n",
    "train_end_date = \"2004-12-01\"\n",
    "test_start_date = \"2005-03-01\"\n",
    "test_end_date = \"2010-12-01\"\n",
    "\n",
    "# train and test datasets\n",
    "train = data.loc[(data.date >= train_start_date) & (data.date <= train_end_date), :].reset_index(drop=True)\n",
    "test = data.loc[(data.date >= train_start_date) & (data.date <= test_end_date), :].reset_index(drop=True) # let test set data begin from training begin, data lag/time series for test sets can go back into the training data"
   ]
  },
  {
   "cell_type": "markdown",
   "id": "9703c6f4-bc47-485c-be3a-f9e19b36bd0c",
   "metadata": {},
   "source": [
    "Data should be a dataframe of seasonally adjusted growth rates with months in rows and quarterly variables in the last month of the quarter, with `np.nan`s for interquarter months."
   ]
  },
  {
   "cell_type": "code",
   "execution_count": 3,
   "id": "80aae1d1-d44a-4424-9c6b-86096cc3b306",
   "metadata": {},
   "outputs": [
    {
     "data": {
      "text/html": [
       "<div>\n",
       "<style scoped>\n",
       "    .dataframe tbody tr th:only-of-type {\n",
       "        vertical-align: middle;\n",
       "    }\n",
       "\n",
       "    .dataframe tbody tr th {\n",
       "        vertical-align: top;\n",
       "    }\n",
       "\n",
       "    .dataframe thead th {\n",
       "        text-align: right;\n",
       "    }\n",
       "</style>\n",
       "<table border=\"1\" class=\"dataframe\">\n",
       "  <thead>\n",
       "    <tr style=\"text-align: right;\">\n",
       "      <th></th>\n",
       "      <th>date</th>\n",
       "      <th>payems</th>\n",
       "      <th>gdpc1</th>\n",
       "      <th>cpiaucsl</th>\n",
       "      <th>unrate</th>\n",
       "      <th>houst</th>\n",
       "      <th>indpro</th>\n",
       "      <th>dspic96</th>\n",
       "      <th>cpilfesl</th>\n",
       "      <th>pcepilfe</th>\n",
       "      <th>pcepi</th>\n",
       "      <th>permit</th>\n",
       "      <th>ulcnfb</th>\n",
       "      <th>a261rx1q020sbea</th>\n",
       "    </tr>\n",
       "  </thead>\n",
       "  <tbody>\n",
       "    <tr>\n",
       "      <th>896</th>\n",
       "      <td>2021-09-01</td>\n",
       "      <td>0.002570</td>\n",
       "      <td>0.005709</td>\n",
       "      <td>0.004124</td>\n",
       "      <td>-0.096154</td>\n",
       "      <td>-0.014622</td>\n",
       "      <td>-0.009759</td>\n",
       "      <td>-0.016185</td>\n",
       "      <td>0.002431</td>\n",
       "      <td>0.002405</td>\n",
       "      <td>0.003465</td>\n",
       "      <td>-0.078443</td>\n",
       "      <td>0.023111</td>\n",
       "      <td>0.014297</td>\n",
       "    </tr>\n",
       "    <tr>\n",
       "      <th>897</th>\n",
       "      <td>2021-10-01</td>\n",
       "      <td>0.004383</td>\n",
       "      <td>NaN</td>\n",
       "      <td>0.009433</td>\n",
       "      <td>-0.021277</td>\n",
       "      <td>0.001290</td>\n",
       "      <td>0.012333</td>\n",
       "      <td>-0.001650</td>\n",
       "      <td>0.005992</td>\n",
       "      <td>0.004427</td>\n",
       "      <td>0.006487</td>\n",
       "      <td>0.042245</td>\n",
       "      <td>NaN</td>\n",
       "      <td>NaN</td>\n",
       "    </tr>\n",
       "    <tr>\n",
       "      <th>898</th>\n",
       "      <td>2021-11-01</td>\n",
       "      <td>0.001677</td>\n",
       "      <td>NaN</td>\n",
       "      <td>0.007791</td>\n",
       "      <td>-0.086957</td>\n",
       "      <td>0.081186</td>\n",
       "      <td>0.007375</td>\n",
       "      <td>-0.001950</td>\n",
       "      <td>0.005346</td>\n",
       "      <td>0.004803</td>\n",
       "      <td>0.006266</td>\n",
       "      <td>0.038717</td>\n",
       "      <td>NaN</td>\n",
       "      <td>NaN</td>\n",
       "    </tr>\n",
       "    <tr>\n",
       "      <th>899</th>\n",
       "      <td>2021-12-01</td>\n",
       "      <td>0.001338</td>\n",
       "      <td>0.016791</td>\n",
       "      <td>0.004705</td>\n",
       "      <td>-0.071429</td>\n",
       "      <td>0.014303</td>\n",
       "      <td>-0.001024</td>\n",
       "      <td>-0.002285</td>\n",
       "      <td>0.005501</td>\n",
       "      <td>0.004981</td>\n",
       "      <td>0.004476</td>\n",
       "      <td>0.097845</td>\n",
       "      <td>NaN</td>\n",
       "      <td>NaN</td>\n",
       "    </tr>\n",
       "    <tr>\n",
       "      <th>900</th>\n",
       "      <td>2022-01-01</td>\n",
       "      <td>NaN</td>\n",
       "      <td>NaN</td>\n",
       "      <td>NaN</td>\n",
       "      <td>NaN</td>\n",
       "      <td>NaN</td>\n",
       "      <td>NaN</td>\n",
       "      <td>NaN</td>\n",
       "      <td>NaN</td>\n",
       "      <td>NaN</td>\n",
       "      <td>NaN</td>\n",
       "      <td>NaN</td>\n",
       "      <td>NaN</td>\n",
       "      <td>NaN</td>\n",
       "    </tr>\n",
       "  </tbody>\n",
       "</table>\n",
       "</div>"
      ],
      "text/plain": [
       "          date    payems     gdpc1  cpiaucsl    unrate     houst    indpro  \\\n",
       "896 2021-09-01  0.002570  0.005709  0.004124 -0.096154 -0.014622 -0.009759   \n",
       "897 2021-10-01  0.004383       NaN  0.009433 -0.021277  0.001290  0.012333   \n",
       "898 2021-11-01  0.001677       NaN  0.007791 -0.086957  0.081186  0.007375   \n",
       "899 2021-12-01  0.001338  0.016791  0.004705 -0.071429  0.014303 -0.001024   \n",
       "900 2022-01-01       NaN       NaN       NaN       NaN       NaN       NaN   \n",
       "\n",
       "      dspic96  cpilfesl  pcepilfe     pcepi    permit    ulcnfb  \\\n",
       "896 -0.016185  0.002431  0.002405  0.003465 -0.078443  0.023111   \n",
       "897 -0.001650  0.005992  0.004427  0.006487  0.042245       NaN   \n",
       "898 -0.001950  0.005346  0.004803  0.006266  0.038717       NaN   \n",
       "899 -0.002285  0.005501  0.004981  0.004476  0.097845       NaN   \n",
       "900       NaN       NaN       NaN       NaN       NaN       NaN   \n",
       "\n",
       "     a261rx1q020sbea  \n",
       "896         0.014297  \n",
       "897              NaN  \n",
       "898              NaN  \n",
       "899              NaN  \n",
       "900              NaN  "
      ]
     },
     "execution_count": 3,
     "metadata": {},
     "output_type": "execute_result"
    }
   ],
   "source": [
    "data.tail()"
   ]
  },
  {
   "cell_type": "markdown",
   "id": "a96300ab-37e5-4e88-99a3-4441c61605e7",
   "metadata": {},
   "source": [
    "# Training the model"
   ]
  },
  {
   "cell_type": "code",
   "execution_count": 4,
   "id": "b0038de7-8831-4eb8-8769-8711b847f4e4",
   "metadata": {},
   "outputs": [],
   "source": [
    "# training ARMA model for order\n",
    "train_series = train.loc[~pd.isna(train[target_variable]), target_variable].reset_index(drop=True) # only the target series is used in the ARMA model\n",
    "model = pm.auto_arima(train_series, seasonal=False, stationary=True)\n",
    "ar_order = model.order[0]\n",
    "ma_order = model.order[2]"
   ]
  },
  {
   "cell_type": "markdown",
   "id": "363e3dde-692f-4b54-9757-ac49216e6419",
   "metadata": {},
   "source": [
    "# Testing the model on artificial data vintages"
   ]
  },
  {
   "cell_type": "code",
   "execution_count": 5,
   "id": "65392c04-304f-4634-986d-1e5390b052a8",
   "metadata": {},
   "outputs": [],
   "source": [
    "# dates in the test set\n",
    "dates = (\n",
    "        pd.date_range(test_start_date, test_end_date, freq=\"3MS\")\n",
    "        .strftime(\"%Y-%m-%d\")\n",
    "        .tolist()\n",
    "    )\n",
    "\n",
    "# actual values\n",
    "actuals = list(test.loc[test.date.isin(dates), target_variable].values)"
   ]
  },
  {
   "cell_type": "code",
   "execution_count": null,
   "id": "19a16dd1-ba26-41aa-8a2d-1ead7d4ae16f",
   "metadata": {},
   "outputs": [],
   "source": [
    "pred_dict = {k: [] for k in lags}\n",
    "for lag in lags:\n",
    "    for date in dates:\n",
    "        test_series = test.loc[test.date <= date, [\"date\", target_variable]]\n",
    "        test_series.iloc[len(test_series)+lag-1-target_lag:,1] = np.nan # simulated vintage\n",
    "        \n",
    "        # make sure target variable isn't given\n",
    "        test_series.loc[test_series.date == date,target_variable] = np.nan\n",
    "        \n",
    "        ts = test_series.loc[~pd.isna(test_series[target_variable])].reset_index(drop=True)\n",
    "        ts_dates = ts.date\n",
    "        ts_series = ts[target_variable]\n",
    "\n",
    "        ts_model = pm.arima.ARIMA((ar_order, 0, ma_order))\n",
    "        preds = ts_model.fit_predict(ts_series)\n",
    "\n",
    "        # make sure getting right date for prediction\n",
    "        final_dates = pd.date_range(ts_dates[0], periods=len(ts_dates)+10, freq=\"3MS\")\n",
    "        final_preds = list(ts_series) + list(preds)\n",
    "        final = pd.DataFrame({\"date\":final_dates, \"preds\":final_preds})\n",
    "        pred = final.loc[final.date == date, \"preds\"].values[0]\n",
    "        \n",
    "        pred_dict[lag].append(pred)"
   ]
  },
  {
   "cell_type": "markdown",
   "id": "f1caeb56-ec8b-4066-9552-397a5743c7a0",
   "metadata": {},
   "source": [
    "# Assess and visualize model performance"
   ]
  },
  {
   "cell_type": "code",
   "execution_count": 7,
   "id": "875c9cb8-1978-4b63-b592-3b5479d768f3",
   "metadata": {},
   "outputs": [
    {
     "data": {
      "text/html": [
       "<div>\n",
       "<style scoped>\n",
       "    .dataframe tbody tr th:only-of-type {\n",
       "        vertical-align: middle;\n",
       "    }\n",
       "\n",
       "    .dataframe tbody tr th {\n",
       "        vertical-align: top;\n",
       "    }\n",
       "\n",
       "    .dataframe thead th {\n",
       "        text-align: right;\n",
       "    }\n",
       "</style>\n",
       "<table border=\"1\" class=\"dataframe\">\n",
       "  <thead>\n",
       "    <tr style=\"text-align: right;\">\n",
       "      <th></th>\n",
       "      <th>Vintage</th>\n",
       "      <th>RMSE</th>\n",
       "    </tr>\n",
       "  </thead>\n",
       "  <tbody>\n",
       "    <tr>\n",
       "      <th>0</th>\n",
       "      <td>-2</td>\n",
       "      <td>0.0086</td>\n",
       "    </tr>\n",
       "    <tr>\n",
       "      <th>1</th>\n",
       "      <td>-1</td>\n",
       "      <td>0.0074</td>\n",
       "    </tr>\n",
       "    <tr>\n",
       "      <th>2</th>\n",
       "      <td>0</td>\n",
       "      <td>0.0074</td>\n",
       "    </tr>\n",
       "    <tr>\n",
       "      <th>3</th>\n",
       "      <td>1</td>\n",
       "      <td>0.0074</td>\n",
       "    </tr>\n",
       "    <tr>\n",
       "      <th>4</th>\n",
       "      <td>2</td>\n",
       "      <td>0.0074</td>\n",
       "    </tr>\n",
       "  </tbody>\n",
       "</table>\n",
       "</div>"
      ],
      "text/plain": [
       "  Vintage    RMSE\n",
       "0      -2  0.0086\n",
       "1      -1  0.0074\n",
       "2       0  0.0074\n",
       "3       1  0.0074\n",
       "4       2  0.0074"
      ]
     },
     "execution_count": 7,
     "metadata": {},
     "output_type": "execute_result"
    }
   ],
   "source": [
    "# table of RMSE by vintage\n",
    "performance = pd.DataFrame(columns=[\"Vintage\", \"RMSE\"])\n",
    "for lag in lags:\n",
    "    tmp = pd.DataFrame({\n",
    "        \"Vintage\":lag,\n",
    "        \"RMSE\":np.sqrt(np.mean((np.array(actuals) - np.array(pred_dict[lag])) ** 2))\n",
    "    }, index=[0])\n",
    "    performance = performance.append(tmp).reset_index(drop=True)\n",
    "performance.round(4)"
   ]
  },
  {
   "cell_type": "code",
   "execution_count": 8,
   "id": "7342fa55-6df6-45d2-bc6f-c183f44887d3",
   "metadata": {},
   "outputs": [
    {
     "data": {
      "text/plain": [
       "''"
      ]
     },
     "execution_count": 8,
     "metadata": {},
     "output_type": "execute_result"
    },
    {
     "data": {
      "image/png": "[encoded data removed]",
      "text/plain": [
       "<Figure size 1080x720 with 1 Axes>"
      ]
     },
     "metadata": {
      "needs_background": "light"
     },
     "output_type": "display_data"
    }
   ],
   "source": [
    "# plot of predictions vs actuals\n",
    "pd.DataFrame({\n",
    "    \"actuals\":actuals, \n",
    "    \"two_back\":pred_dict[-2], \n",
    "    \"one_back\":pred_dict[-1], \n",
    "    \"zero_back\":pred_dict[0],\n",
    "    \"one_ahead\":pred_dict[1],\n",
    "    \"two_ahead\":pred_dict[2]}\n",
    ").plot()\n",
    ";"
   ]
  },
  {
   "cell_type": "markdown",
   "id": "95258bdb-97bd-419f-840a-ab19273828f1",
   "metadata": {},
   "source": [
    "# Final model usage / getting predictions on new data\n",
    "Say model selection is finished and the model is to now be used, i.e. used to get predictions on new data."
   ]
  },
  {
   "cell_type": "code",
   "execution_count": 9,
   "id": "780d9b6f-ef8d-4afa-a743-526c4856dd93",
   "metadata": {},
   "outputs": [],
   "source": [
    "# the test data ends 2010-12-01, let's say we wanted to predict 2011-03-01\n",
    "new_data = test.copy()\n",
    "ts_series = new_data.loc[~pd.isna(new_data[target_variable]), target_variable]\n",
    "ts_model = pm.arima.ARIMA((ar_order, 0, ma_order))\n",
    "preds = ts_model.fit_predict(ts_series)"
   ]
  },
  {
   "cell_type": "code",
   "execution_count": 10,
   "id": "56faa28f-f539-45c5-9b50-eda4ac20f94f",
   "metadata": {},
   "outputs": [
    {
     "data": {
      "text/plain": [
       "0.006842559688019557"
      ]
     },
     "execution_count": 10,
     "metadata": {},
     "output_type": "execute_result"
    }
   ],
   "source": [
    "# obtain prediction for the new period\n",
    "preds[0]"
   ]
  }
 ],
 "metadata": {
  "kernelspec": {
   "display_name": "Python 3 (ipykernel)",
   "language": "python",
   "name": "python3"
  },
  "language_info": {
   "codemirror_mode": {
    "name": "ipython",
    "version": 3
   },
   "file_extension": ".py",
   "mimetype": "text/x-python",
   "name": "python",
   "nbconvert_exporter": "python",
   "pygments_lexer": "ipython3",
   "version": "3.9.6"
  }
 },
 "nbformat": 4,
 "nbformat_minor": 5
}
